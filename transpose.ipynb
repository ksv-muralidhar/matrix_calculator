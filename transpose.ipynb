{
 "cells": [
  {
   "cell_type": "code",
   "execution_count": 4,
   "metadata": {},
   "outputs": [],
   "source": [
    "class Transpose:\n",
    "    def __init__(self, arr):\n",
    "        self.arr = arr\n",
    "        self.rows = len(self.arr)\n",
    "        self.cols = len(self.arr[0])\n",
    "        \n",
    "    def empty_transpose_generate(self):\n",
    "        transpose = []\n",
    "        for r in range(self.cols):\n",
    "            row = []\n",
    "            for c in range(self.rows):\n",
    "                row.append(0)\n",
    "            transpose.append(row)\n",
    "        return transpose\n",
    "    \n",
    "    def generate_transpose(self):\n",
    "        transpose = self.empty_transpose_generate()\n",
    "        for i in range(self.cols):\n",
    "            for j in range(self.rows):\n",
    "                transpose[i][j] = self.arr[j][i]\n",
    "        return transpose\n",
    "    \n",
    "    def print_array(self, arr):\n",
    "        arr_str = ''\n",
    "        for i in arr:\n",
    "            arr_str += str(i) + '\\n'\n",
    "        print(arr_str)\n",
    "    \n",
    "    def __repr__(self):\n",
    "        print('Original Array')\n",
    "        self.print_array(self.arr)\n",
    "        print('Transpose Array')\n",
    "        transpose = self.generate_transpose()\n",
    "        self.print_array(transpose)\n",
    "        return \"\""
   ]
  },
  {
   "cell_type": "code",
   "execution_count": 5,
   "metadata": {},
   "outputs": [
    {
     "name": "stdout",
     "output_type": "stream",
     "text": [
      "Original Array\n",
      "[1, 2]\n",
      "[3, 4]\n",
      "[5, 6]\n",
      "\n",
      "Transpose Array\n",
      "[1, 3, 5]\n",
      "[2, 4, 6]\n",
      "\n"
     ]
    },
    {
     "data": {
      "text/plain": []
     },
     "execution_count": 5,
     "metadata": {},
     "output_type": "execute_result"
    }
   ],
   "source": [
    "Transpose([[1, 2], [3, 4], [5, 6]])"
   ]
  },
  {
   "cell_type": "code",
   "execution_count": 6,
   "metadata": {},
   "outputs": [
    {
     "name": "stdout",
     "output_type": "stream",
     "text": [
      "Original Array\n",
      "[1, 2, 11]\n",
      "[3, 4, 22]\n",
      "[5, 6, 33]\n",
      "[44, 55, 66]\n",
      "\n",
      "Transpose Array\n",
      "[1, 3, 5, 44]\n",
      "[2, 4, 6, 55]\n",
      "[11, 22, 33, 66]\n",
      "\n"
     ]
    },
    {
     "data": {
      "text/plain": []
     },
     "execution_count": 6,
     "metadata": {},
     "output_type": "execute_result"
    }
   ],
   "source": [
    "Transpose([[1, 2, 11], [3, 4, 22], [5, 6, 33], [44, 55, 66]])"
   ]
  },
  {
   "cell_type": "code",
   "execution_count": 7,
   "metadata": {},
   "outputs": [
    {
     "name": "stdout",
     "output_type": "stream",
     "text": [
      "Original Array\n",
      "[1]\n",
      "[2]\n",
      "[3]\n",
      "[4]\n",
      "\n",
      "Transpose Array\n",
      "[1, 2, 3, 4]\n",
      "\n"
     ]
    },
    {
     "data": {
      "text/plain": []
     },
     "execution_count": 7,
     "metadata": {},
     "output_type": "execute_result"
    }
   ],
   "source": [
    "Transpose([[1], [2], [3], [4]])"
   ]
  }
 ],
 "metadata": {
  "kernelspec": {
   "display_name": "Python 3",
   "language": "python",
   "name": "python3"
  },
  "language_info": {
   "codemirror_mode": {
    "name": "ipython",
    "version": 3
   },
   "file_extension": ".py",
   "mimetype": "text/x-python",
   "name": "python",
   "nbconvert_exporter": "python",
   "pygments_lexer": "ipython3",
   "version": "3.8.5"
  }
 },
 "nbformat": 4,
 "nbformat_minor": 4
}
