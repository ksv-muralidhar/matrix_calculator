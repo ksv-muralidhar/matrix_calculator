{
 "cells": [
  {
   "cell_type": "code",
   "execution_count": 171,
   "metadata": {},
   "outputs": [],
   "source": [
    "class Matrix:\n",
    "    def __init__(self, l):\n",
    "        self.m = l\n",
    "        \n",
    "    @staticmethod    \n",
    "    def shape(a):\n",
    "        return (len(a), len(a[0]))\n",
    "    \n",
    "    @staticmethod\n",
    "    def compute(a, b, op):\n",
    "        if op == '+':\n",
    "            return a + b\n",
    "        elif op == '-':\n",
    "            return a - b\n",
    "        else:\n",
    "            return a / b\n",
    "        \n",
    "    def matop(self, a, b, op):\n",
    "        shape_a = self.shape(a)\n",
    "        shape_b = self.shape(b)\n",
    "        \n",
    "        if (shape_a != shape_b):\n",
    "            return f'cannot perform {op} operation'\n",
    "        \n",
    "        result = []\n",
    "        for row in range(shape_a[0]):\n",
    "            result_row = []\n",
    "            for col in range(shape_a[1]):\n",
    "                tot = self.compute(a[row][col], b[row][col], op)\n",
    "                result_row.append(tot)\n",
    "            result.append(result_row)\n",
    "        return Matrix(result)\n",
    "        \n",
    "    \n",
    "    def matmul(self, a , b):\n",
    "        shape_a = self.shape(a)\n",
    "        shape_b = self.shape(b)\n",
    "        \n",
    "        a_m = shape_a[0]\n",
    "        a_n = shape_a[1]\n",
    "        b_m = shape_b[0]\n",
    "        b_n = shape_b[1]\n",
    "        \n",
    "        if a_n != b_m:\n",
    "            return 'cannot perform * operation'\n",
    "        \n",
    "        nrows = a_m\n",
    "        ncols = b_n\n",
    "        \n",
    "        result = []\n",
    "        for nrow in range(nrows):\n",
    "            result_row = []\n",
    "            for ncol in range(ncols):\n",
    "                row = a[nrow]\n",
    "                col = [i[ncol] for i in b]\n",
    "                tot = sum([i * j for i, j in zip(row,col)])\n",
    "                result_row.append(tot)\n",
    "            result.append(result_row)\n",
    "        return Matrix(result)\n",
    "    \n",
    "    \n",
    "    def __add__(self, other):\n",
    "        a = self.m\n",
    "        b = other.m\n",
    "        return self.matop(a, b, '+')\n",
    "    \n",
    "    def __sub__(self, other):\n",
    "        a = self.m\n",
    "        b = other.m\n",
    "        return self.matop(a, b, '-')\n",
    "    \n",
    "    def __truediv__(self, other):\n",
    "        a = self.m\n",
    "        b = other.m\n",
    "        return self.matop(a, b, '/')\n",
    "        \n",
    "        \n",
    "    def __mul__(self, other):\n",
    "        a = self.m\n",
    "        b = other.m\n",
    "        return self.matmul(a, b)\n",
    "    \n",
    "    @staticmethod\n",
    "    def print_matrix(a):\n",
    "        s = \"\"\n",
    "        for i in a:\n",
    "            s += str(i) + '\\n'\n",
    "        return s\n",
    "    \n",
    "    def __repr__(self):\n",
    "        return self.print_matrix(self.m)"
   ]
  },
  {
   "cell_type": "code",
   "execution_count": 177,
   "metadata": {},
   "outputs": [
    {
     "name": "stdout",
     "output_type": "stream",
     "text": [
      "a\n",
      "[1, 2]\n",
      "[3, 4]\n",
      "\n",
      "b\n",
      "[1, 2]\n",
      "[3, 4]\n",
      "\n"
     ]
    }
   ],
   "source": [
    "a = Matrix([[1,2], [3,4]])\n",
    "b = Matrix([[1,2], [3,4]])\n",
    "print(f'a\\n{a}\\nb\\n{b}')"
   ]
  },
  {
   "cell_type": "code",
   "execution_count": 178,
   "metadata": {},
   "outputs": [
    {
     "data": {
      "text/plain": [
       "[2, 4]\n",
       "[6, 8]"
      ]
     },
     "execution_count": 178,
     "metadata": {},
     "output_type": "execute_result"
    }
   ],
   "source": [
    "a + b"
   ]
  },
  {
   "cell_type": "code",
   "execution_count": 179,
   "metadata": {},
   "outputs": [
    {
     "data": {
      "text/plain": [
       "[3, 6]\n",
       "[9, 12]"
      ]
     },
     "execution_count": 179,
     "metadata": {},
     "output_type": "execute_result"
    }
   ],
   "source": [
    "a + b + a"
   ]
  },
  {
   "cell_type": "code",
   "execution_count": 180,
   "metadata": {},
   "outputs": [
    {
     "data": {
      "text/plain": [
       "[7, 10]\n",
       "[15, 22]"
      ]
     },
     "execution_count": 180,
     "metadata": {},
     "output_type": "execute_result"
    }
   ],
   "source": [
    "a * b"
   ]
  },
  {
   "cell_type": "code",
   "execution_count": 181,
   "metadata": {},
   "outputs": [
    {
     "data": {
      "text/plain": [
       "[-1, -2]\n",
       "[-3, -4]"
      ]
     },
     "execution_count": 181,
     "metadata": {},
     "output_type": "execute_result"
    }
   ],
   "source": [
    "a - b - b"
   ]
  },
  {
   "cell_type": "code",
   "execution_count": 192,
   "metadata": {},
   "outputs": [
    {
     "data": {
      "text/plain": [
       "[4.0, 6.0]\n",
       "[4.0, 6.0]"
      ]
     },
     "execution_count": 192,
     "metadata": {},
     "output_type": "execute_result"
    }
   ],
   "source": [
    "a / b * a"
   ]
  },
  {
   "cell_type": "code",
   "execution_count": 194,
   "metadata": {},
   "outputs": [
    {
     "name": "stdout",
     "output_type": "stream",
     "text": [
      "a\n",
      "[1, 2, 3]\n",
      "[4, 5, 6]\n",
      "\n",
      "b\n",
      "[1, 2, 3]\n",
      "[4, 5, 6]\n",
      "\n"
     ]
    }
   ],
   "source": [
    "a = Matrix([[1,2,3], [4,5,6]])\n",
    "b = Matrix([[1,2,3], [4,5,6]])\n",
    "print(f'a\\n{a}\\nb\\n{b}')"
   ]
  },
  {
   "cell_type": "code",
   "execution_count": 196,
   "metadata": {},
   "outputs": [
    {
     "data": {
      "text/plain": [
       "[2, 4, 6]\n",
       "[8, 10, 12]"
      ]
     },
     "execution_count": 196,
     "metadata": {},
     "output_type": "execute_result"
    }
   ],
   "source": [
    "a + b"
   ]
  },
  {
   "cell_type": "code",
   "execution_count": 197,
   "metadata": {},
   "outputs": [
    {
     "data": {
      "text/plain": [
       "[0, 0, 0]\n",
       "[0, 0, 0]"
      ]
     },
     "execution_count": 197,
     "metadata": {},
     "output_type": "execute_result"
    }
   ],
   "source": [
    "a - b"
   ]
  },
  {
   "cell_type": "code",
   "execution_count": 198,
   "metadata": {},
   "outputs": [
    {
     "data": {
      "text/plain": [
       "'cannot perform * operation'"
      ]
     },
     "execution_count": 198,
     "metadata": {},
     "output_type": "execute_result"
    }
   ],
   "source": [
    "a * b"
   ]
  },
  {
   "cell_type": "code",
   "execution_count": 199,
   "metadata": {},
   "outputs": [
    {
     "name": "stdout",
     "output_type": "stream",
     "text": [
      "a\n",
      "[1, 2, 3]\n",
      "[4, 5, 6]\n",
      "\n",
      "b\n",
      "[1, 2]\n",
      "[3, 4]\n",
      "[5, 6]\n",
      "\n"
     ]
    }
   ],
   "source": [
    "a = Matrix([[1,2,3], [4,5,6]])\n",
    "b = Matrix([[1,2], [3,4], [5,6]])\n",
    "print(f'a\\n{a}\\nb\\n{b}')"
   ]
  },
  {
   "cell_type": "code",
   "execution_count": 200,
   "metadata": {},
   "outputs": [
    {
     "data": {
      "text/plain": [
       "'cannot perform + operation'"
      ]
     },
     "execution_count": 200,
     "metadata": {},
     "output_type": "execute_result"
    }
   ],
   "source": [
    "a + b"
   ]
  },
  {
   "cell_type": "code",
   "execution_count": 201,
   "metadata": {},
   "outputs": [
    {
     "data": {
      "text/plain": [
       "'cannot perform - operation'"
      ]
     },
     "execution_count": 201,
     "metadata": {},
     "output_type": "execute_result"
    }
   ],
   "source": [
    "a - b"
   ]
  },
  {
   "cell_type": "code",
   "execution_count": 202,
   "metadata": {},
   "outputs": [
    {
     "data": {
      "text/plain": [
       "[22, 28]\n",
       "[49, 64]"
      ]
     },
     "execution_count": 202,
     "metadata": {},
     "output_type": "execute_result"
    }
   ],
   "source": [
    "a * b"
   ]
  }
 ],
 "metadata": {
  "kernelspec": {
   "display_name": "Python 3",
   "language": "python",
   "name": "python3"
  },
  "language_info": {
   "codemirror_mode": {
    "name": "ipython",
    "version": 3
   },
   "file_extension": ".py",
   "mimetype": "text/x-python",
   "name": "python",
   "nbconvert_exporter": "python",
   "pygments_lexer": "ipython3",
   "version": "3.8.5"
  }
 },
 "nbformat": 4,
 "nbformat_minor": 4
}
